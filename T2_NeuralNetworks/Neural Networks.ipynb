{
 "cells": [
  {
   "cell_type": "markdown",
   "metadata": {},
   "source": [
    "# Red neuronal de dos capas oculta"
   ]
  },
  {
   "cell_type": "markdown",
   "metadata": {},
   "source": [
    "## Importación de módulos"
   ]
  },
  {
   "cell_type": "code",
   "execution_count": 1,
   "metadata": {
    "collapsed": true
   },
   "outputs": [],
   "source": [
    "import numpy as np"
   ]
  },
  {
   "cell_type": "markdown",
   "metadata": {},
   "source": [
    "## Conjunto de datos"
   ]
  },
  {
   "cell_type": "code",
   "execution_count": 2,
   "metadata": {
    "collapsed": true
   },
   "outputs": [],
   "source": [
    "x = np.array([[0, 0, 1], [0, 1, 1], [1, 0, 1], [1, 1, 1]])\n",
    "y = np.array([[0, 0, 1, 1]]).T"
   ]
  },
  {
   "cell_type": "code",
   "execution_count": 3,
   "metadata": {},
   "outputs": [
    {
     "name": "stdout",
     "output_type": "stream",
     "text": [
      "Shape of data matrix (4, 3)\n",
      "Shape of labels matrix (4, 1)\n"
     ]
    }
   ],
   "source": [
    "print('Shape of data matrix {0}'.format(x.shape))\n",
    "print('Shape of labels matrix {0}'.format(y.shape))"
   ]
  },
  {
   "cell_type": "markdown",
   "metadata": {},
   "source": [
    "## Definimos la función no lineal (_sigmoid_)"
   ]
  },
  {
   "cell_type": "code",
   "execution_count": 4,
   "metadata": {
    "collapsed": true
   },
   "outputs": [],
   "source": [
    "def sigmoid(x):\n",
    "    return 1 / (1 + np.exp(-x))\n",
    "\n",
    "def sigmoid_gradient(x):\n",
    "    return x * (1 - x)"
   ]
  },
  {
   "cell_type": "markdown",
   "metadata": {},
   "source": [
    "## Computo del gradiente descendente"
   ]
  },
  {
   "cell_type": "markdown",
   "metadata": {},
   "source": [
    "### Inicialización vectores de peso"
   ]
  },
  {
   "cell_type": "code",
   "execution_count": 5,
   "metadata": {},
   "outputs": [
    {
     "name": "stdout",
     "output_type": "stream",
     "text": [
      "Weights_1 vector shape: (3, 5)\n",
      "Weights_2 vector shape: (5, 1)\n"
     ]
    }
   ],
   "source": [
    "weights_1 = np.random.random((x.shape[1], 5))\n",
    "weights_2 = np.random.random((weights_1.shape[1], 1))\n",
    "print('Weights_1 vector shape: {0}'.format(weights_1.shape))\n",
    "print('Weights_2 vector shape: {0}'.format(weights_2.shape))"
   ]
  },
  {
   "cell_type": "code",
   "execution_count": 6,
   "metadata": {},
   "outputs": [
    {
     "name": "stdout",
     "output_type": "stream",
     "text": [
      "Epoch 0 - Loss:0.3823\n",
      "Epoch 10 - Loss:0.3756\n",
      "Epoch 20 - Loss:0.3686\n",
      "Epoch 30 - Loss:0.3612\n",
      "Epoch 40 - Loss:0.3536\n",
      "Epoch 50 - Loss:0.3457\n",
      "Epoch 60 - Loss:0.3376\n",
      "Epoch 70 - Loss:0.3295\n",
      "Epoch 80 - Loss:0.3214\n",
      "Epoch 90 - Loss:0.3135\n"
     ]
    }
   ],
   "source": [
    "step_size = 1E-2\n",
    "num_epochs = 100\n",
    "for epoch in range(num_epochs):\n",
    "    # Compute layer output estimation.\n",
    "    layer_1 = sigmoid(np.dot(x, weights_1))\n",
    "    layer_2 = sigmoid(np.dot(layer_1, weights_2))\n",
    "\n",
    "    # Compute loss for a given epoch.\n",
    "    loss = (np.power(layer_2 - y, 2)).mean()\n",
    "    \n",
    "    # Update using loss gradient wrt weights.\n",
    "    grad_weights_1 = np.dot(x.T, 2 * (layer_2 - y) * sigmoid_gradient(layer_2) * weights_2.T * sigmoid_gradient(layer_1))\n",
    "    grad_weights_2 = np.dot(layer_1.T, 2 * (layer_2 - y) * sigmoid_gradient(layer_2))\n",
    "    \n",
    "    weights_1 -= step_size * grad_weights_1\n",
    "    weights_2 -= step_size * grad_weights_2\n",
    "    \n",
    "    if epoch % 10 == 0:\n",
    "        print(\"Epoch %d - Loss:%.4f\" % (epoch, loss))\n",
    "    "
   ]
  }
 ],
 "metadata": {
  "kernelspec": {
   "display_name": "Python 3",
   "language": "python",
   "name": "python3"
  },
  "language_info": {
   "codemirror_mode": {
    "name": "ipython",
    "version": 3
   },
   "file_extension": ".py",
   "mimetype": "text/x-python",
   "name": "python",
   "nbconvert_exporter": "python",
   "pygments_lexer": "ipython3",
   "version": "3.6.3"
  }
 },
 "nbformat": 4,
 "nbformat_minor": 2
}
