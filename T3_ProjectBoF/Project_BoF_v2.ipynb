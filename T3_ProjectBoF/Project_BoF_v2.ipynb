{
 "cells": [
  {
   "cell_type": "markdown",
   "metadata": {},
   "source": [
    "# Proyecto N°1: Clasificación con método _Bag of Features_"
   ]
  },
  {
   "cell_type": "markdown",
   "metadata": {},
   "source": [
    "This project will be evaluated in class groups. The evaluation metrics are based on your presentation and code provided in your attachments. Your solutions to the following problem should include commented source code written in Python. You can use additional modules if necessary. Analyze your results. If you discover something interesting, let us know!\n",
    "\n",
    "The past decade has seen the growing popularity of Bag of Features (BoF) approaches to many computer vision tasks, including image classification, video search, robot localization, and texture recognition. Part of the appeal is simplicity. BoF methods are based on orderless collections of quantized local image descriptors; they discard spatial information and are therefore conceptually and computationally simpler than many alternative methods [here](https://arxiv.org/pdf/1101.3354.pdf).\n",
    "\n",
    "For this project, you have to implement the Bag of Features representation for a classification problem. To accomplish this, execute the following tasks in the given order:\n",
    "\n",
    "1. Download CIFAR-10 dataset [here](https://www.kaggle.com/c/cifar-10/data). You have to select at least 4 classes to classify.\n",
    "2. For each image, compute Bag of features descriptors.\n",
    "3. Select a classifier using the BoF as input data, Options are Neural Network and KNN\n",
    "4. Evaluate the classifier using the testing set.\n",
    "5. Compute performance metrics creating a confusion matrix.\n",
    "\n",
    "For **task #3**, you have to read and implement the approach presented [here](https://arxiv.org/pdf/1101.3354.pdf), and you can look for additional information on internet. For **task #6** you should measure model performance with unseen data for this classification problem."
   ]
  },
  {
   "cell_type": "markdown",
   "metadata": {},
   "source": [
    "### 1. Importación de módulos y librerias."
   ]
  },
  {
   "cell_type": "code",
   "execution_count": 134,
   "metadata": {
    "collapsed": true
   },
   "outputs": [],
   "source": [
    "import cv2\n",
    "import numpy as np\n",
    "import pandas as pd\n",
    "import os\n",
    "import matplotlib.pyplot as plt\n",
    "from sklearn.cluster import KMeans\n",
    "from sklearn.svm import SVC\n",
    "from sklearn.preprocessing import StandardScaler\n",
    "from sklearn.neighbors import KNeighborsClassifier\n",
    "\n"
   ]
  },
  {
   "cell_type": "markdown",
   "metadata": {},
   "source": [
    "### 2. Selección de imagenes de entrenamiento (4 categorías)."
   ]
  },
  {
   "cell_type": "markdown",
   "metadata": {},
   "source": [
    "#### 2.A Lectura del archivo de etiquetas .csv (_Comma separated values_)"
   ]
  },
  {
   "cell_type": "code",
   "execution_count": 2,
   "metadata": {},
   "outputs": [
    {
     "name": "stdout",
     "output_type": "stream",
     "text": [
      "   id       label\n",
      "0   1        frog\n",
      "1   2       truck\n",
      "2   3       truck\n",
      "3   4        deer\n",
      "4   5  automobile\n"
     ]
    }
   ],
   "source": [
    "# Abrimos el archivo e imprimimos la cabecera para verificar.\n",
    "filename = 'trainLabels.csv'\n",
    "labels = pd.read_csv(filename)\n",
    "print(labels.head())"
   ]
  },
  {
   "cell_type": "markdown",
   "metadata": {},
   "source": [
    "#### 2.B Lectura de carpeta con imagenes"
   ]
  },
  {
   "cell_type": "code",
   "execution_count": 3,
   "metadata": {},
   "outputs": [
    {
     "name": "stdout",
     "output_type": "stream",
     "text": [
      "Lista de imagenes de entrenamiento - Clase \"list\" | Tamaño: 50000\n",
      "['1.png', '10.png', '100.png', '1000.png', '10000.png']\n"
     ]
    }
   ],
   "source": [
    "# Ruta de la carpeta con los archivos\n",
    "path = 'train'\n",
    "train_set = os.listdir(path)\n",
    "print('Lista de imagenes de entrenamiento - Clase \"{}\" | Tamaño: {}'.format(type(train_set).__name__, len(train_set)))\n",
    "print(train_set[0:5])"
   ]
  },
  {
   "cell_type": "markdown",
   "metadata": {},
   "source": [
    "#### 2.C Selección de imagenes en base a etiquetas elegidas."
   ]
  },
  {
   "cell_type": "code",
   "execution_count": 222,
   "metadata": {
    "scrolled": true
   },
   "outputs": [
    {
     "name": "stdout",
     "output_type": "stream",
     "text": [
      "Tamaño del set de entrenamiento en base a categorías: 20000\n",
      "frog\n",
      "['2', '3', '3', '4', '1', '3', '3', '3', '1', '2', '1', '2', '2', '2', '1', '3', '1', '1', '1', '1']\n",
      "['2' '3' '3' '4' '1' '3' '3' '3' '1' '2' '1' '2' '2' '2' '1' '3' '1' '1'\n",
      " '1' '1']\n"
     ]
    }
   ],
   "source": [
    "# Lista de categorias seleccionadas\n",
    "categorias = ['cat', 'frog', 'truck', 'ship']\n",
    "\n",
    "# Filtro en base a las categorias.\n",
    "train_list = labels.loc[labels['label'].isin(categorias)]['id'].tolist()\n",
    "print('Tamaño del set de entrenamiento en base a categorías: {}'.format(len(train_list)))\n",
    "train_labels = labels.loc[labels['label'].isin(categorias)]['label'].tolist()\n",
    "print(train_labels[0])\n",
    "\n",
    "for i in range (len(train_labels)):\n",
    "    if train_labels[i] == 'cat' :\n",
    "        train_labels[i] = '1'\n",
    "    if train_labels[i] == 'frog' :\n",
    "        train_labels[i] = '2'    \n",
    "    if train_labels[i] == 'truck' :\n",
    "        train_labels[i] = '3'\n",
    "    if train_labels[i] == 'ship' :\n",
    "        train_labels[i] = '4'\n",
    "        \n",
    "        \n",
    "print(train_labels[0:20])\n",
    "\n",
    "array_labels = np.asarray(train_labels)\n",
    "\n",
    "print(array_labels[0:20])"
   ]
  },
  {
   "cell_type": "markdown",
   "metadata": {},
   "source": [
    "### 3. _Bag of Features_ (Descriptor)"
   ]
  },
  {
   "cell_type": "code",
   "execution_count": 220,
   "metadata": {},
   "outputs": [
    {
     "name": "stdout",
     "output_type": "stream",
     "text": [
      "[1, 2, 3, 9, 10, 15, 16, 17, 18, 20, 22, 23, 24, 26, 27, 32, 34, 37, 39, 40]\n",
      "Tamaño aproximado de descriptores por imagen: 14.55\n"
     ]
    }
   ],
   "source": [
    "# Creamos nuestra lista de vectores con los descriptores.\n",
    "des_list = []\n",
    "\n",
    "# Si desea probar sobre un tamaño pequeño de la lista de entrenamiento, edite la variable len_train\n",
    "len_train = 20\n",
    "label_count = 0\n",
    "for img_item in train_list[0:len_train] :\n",
    "    # Creamos nuestro elemento SIFT por cada imagen\n",
    "    img_path = os.path.join(path, str(img_item)+'.png')\n",
    "    img  = cv2.imread(img_path)\n",
    "    gray = cv2.cvtColor(img, cv2.COLOR_BGR2GRAY)\n",
    "    # Calculo de los descriptores y los puntos clave (Keypoints)\n",
    "    train_labels = np.append(train_labels, label_count)\n",
    "    sift = cv2.xfeatures2d.SIFT_create()\n",
    "    kp, des = sift.detectAndCompute(gray,None)\n",
    "    # Guardamos dicho array en la lista\n",
    "    des_list.append(des)\n",
    "    label_count += 1\n",
    "\n",
    "train_labels = train_labels[0:len_train]\n",
    "\n",
    "print(train_list[0:20])\n",
    "# Matriz n x 128 por cada descriptor\n",
    "des_shape = [v.shape[0] for v in des_list]\n",
    "print('Tamaño aproximado de descriptores por imagen: {}'.format(np.mean(des_shape)))"
   ]
  },
  {
   "cell_type": "code",
   "execution_count": 6,
   "metadata": {},
   "outputs": [
    {
     "name": "stdout",
     "output_type": "stream",
     "text": [
      "Tamaño total de descriptores: (296, 128)\n"
     ]
    }
   ],
   "source": [
    "# Organizamos todos los descriptores en una sola matriz.\n",
    "des_stack = np.vstack(des_list)\n",
    "print('Tamaño total de descriptores: {}'.format(des_stack.shape))"
   ]
  },
  {
   "cell_type": "markdown",
   "metadata": {},
   "source": [
    "### 4. Clasificador por método _K-means clustering_"
   ]
  },
  {
   "cell_type": "markdown",
   "metadata": {},
   "source": [
    "#### 4.A K-means"
   ]
  },
  {
   "cell_type": "code",
   "execution_count": 26,
   "metadata": {},
   "outputs": [
    {
     "name": "stdout",
     "output_type": "stream",
     "text": [
      "Número de grupos: 15 | Tamaño del vocabulario generado: 296\n"
     ]
    }
   ],
   "source": [
    "# Método k-means clustering\n",
    "k = 15 # Número de grupos (clusters)\n",
    "kmeans_ret = KMeans(n_clusters = k).fit_predict(des_stack)\n",
    "print('Número de grupos: {} | Tamaño del vocabulario generado: {}'.format(k, len(kmeans_ret)))"
   ]
  },
  {
   "cell_type": "markdown",
   "metadata": {},
   "source": [
    "#### 4.B Histograma"
   ]
  },
  {
   "cell_type": "code",
   "execution_count": 176,
   "metadata": {},
   "outputs": [
    {
     "data": {
      "image/png": "[encoded data removed]",
      "text/plain": [
       "<matplotlib.figure.Figure at 0x242e6b571d0>"
      ]
     },
     "metadata": {},
     "output_type": "display_data"
    },
    {
     "name": "stdout",
     "output_type": "stream",
     "text": [
      "(20, 15)\n"
     ]
    }
   ],
   "source": [
    "# Generamos un histograma vacio en base al tamaño de grupos.\n",
    "histograma = np.array([np.zeros(k) for i in range(len_train)])\n",
    "# Contador para guardar el indice del grupo (cluster).\n",
    "old_count = 0\n",
    "\n",
    "# Iterando en nuestro conjunto de prueba.\n",
    "for i in range(len_train):\n",
    "    # Para cada imagen, obtengase el descriptor asociado.\n",
    "    p = len(des_list[i])\n",
    "    # Para cada descriptor de dicha imagen, obtengase su grupo asociado.\n",
    "    for j in range(p):\n",
    "        idx = kmeans_ret[old_count+j]\n",
    "        histograma[i][idx] += 1\n",
    "    old_count += p\n",
    "x_scalar = np.arange(k)\n",
    "y_scalar = np.array([abs(np.sum(histograma[:,h])) for h in range(k)])\n",
    "\n",
    "# Realizamos el gráfico del histograma\n",
    "plt.bar(x_scalar, y_scalar)\n",
    "plt.xlabel(\"Indice del grupo\")\n",
    "plt.ylabel(\"Frecuencia\")\n",
    "plt.title(\"Vocabulario generado \\n Tamaño del histograma: {}\".format(histograma.size))\n",
    "plt.xticks(x_scalar, x_scalar)\n",
    "plt.show()\n",
    "\n",
    "\n",
    "train_data = histograma\n",
    "print(train_data.shape)\n"
   ]
  },
  {
   "cell_type": "markdown",
   "metadata": {},
   "source": [
    "### 5. Entrenamiento"
   ]
  },
  {
   "cell_type": "code",
   "execution_count": 161,
   "metadata": {},
   "outputs": [
    {
     "name": "stdout",
     "output_type": "stream",
     "text": [
      "[7.0703244 7.5056424 7.1954875 7.338588  7.338588  7.706313  7.26448\n",
      " 7.5056424 7.338588  7.418631  7.5056424 7.130949  7.706313  7.26448\n",
      " 7.6009526]\n",
      "<class 'numpy.ndarray'>\n"
     ]
    },
    {
     "data": {
      "text/plain": [
       "True"
      ]
     },
     "execution_count": 161,
     "metadata": {},
     "output_type": "execute_result"
    }
   ],
   "source": [
    "#Tf-Idf \n",
    "nbr_occurences = np.sum( (histograma > 0) * 1, axis = 0)\n",
    "# Calcular número de ocurrencias\n",
    "idf = np.array(np.log((1.0*len(train_list)+1) / (1.0*nbr_occurences + 1)), 'float32')\n",
    "# Dando más peso a las más frecuentes\n",
    "print(idf)\n",
    "train_data = train_data.astype(np.float32)\n",
    "train_labels = train_labels.astype(np.float32)\n",
    "\n",
    "stdSlr = StandardScaler().fit(train_data)\n",
    "train_data = stdSlr.transform(train_data)  \n",
    "print(type(train_labels))\n",
    "# Entrenando el clasificador con los datos de entrenamiento\n",
    "knn = cv2.ml.KNearest_create()\n",
    "knn.train(train_data,cv2.ml.ROW_SAMPLE,train_labels)\n"
   ]
  },
  {
   "cell_type": "markdown",
   "metadata": {},
   "source": [
    "### 6. Clasificación "
   ]
  },
  {
   "cell_type": "code",
   "execution_count": 217,
   "metadata": {},
   "outputs": [
    {
     "name": "stdout",
     "output_type": "stream",
     "text": [
      "Lista de imagenes de entrenamiento - Clase \"list\" | Tamaño: 300000\n",
      "['1.png', '10.png', '100.png', '1000.png', '10000.png', '100000.png', '100001.png', '100002.png', '100003.png', '100004.png', '100005.png', '100006.png', '100007.png', '100008.png', '100009.png', '10001.png', '100010.png', '100011.png', '100012.png', '100013.png']\n"
     ]
    }
   ],
   "source": [
    "# Para el proceso de clasificación, se repite el mismo procedimiento de extracción de características \n",
    "# teniendo como referencia, el set de pruebas\n",
    "# Ruta de la carpeta con los archivos\n",
    "path = 'test'\n",
    "test_set = os.listdir(path)\n",
    "print('Lista de imagenes de entrenamiento - Clase \"{}\" | Tamaño: {}'.format(type(test_set).__name__, len(test_set)))\n",
    "\n",
    "# Creamos nuestra lista de vectores con los descriptores.\n",
    "des_test = []\n",
    "\n",
    "# Si desea probar sobre un tamaño pequeño de la lista de prueba, edite la variable len_test\n",
    "len_test = 20\n",
    "test_count = 0\n",
    "for img_item in test_set[0:len_test] :\n",
    "    # Creamos nuestro elemento SIFT por cada imagen\n",
    "    img_path = os.path.join(path, str(img_item))\n",
    "    img  = cv2.imread(img_path)\n",
    "    gray = cv2.cvtColor(img, cv2.COLOR_BGR2GRAY)\n",
    "    # Calculo de los descriptores y los puntos clave (Keypoints)\n",
    "    sift = cv2.xfeatures2d.SIFT_create()\n",
    "    kp, des = sift.detectAndCompute(gray,None)\n",
    "    # Guardamos dicho array en la lista\n",
    "    des_test.append(des)\n",
    "    label_count += 1\n",
    "    \n",
    "\n",
    "    \n",
    "test_set= np.asarray(test_set)\n",
    "print(sorted(test_set[0:20]))\n",
    "\n",
    "\n"
   ]
  },
  {
   "cell_type": "code",
   "execution_count": 170,
   "metadata": {},
   "outputs": [
    {
     "name": "stdout",
     "output_type": "stream",
     "text": [
      "Tamaño total de descriptores: (243, 128)\n"
     ]
    }
   ],
   "source": [
    "# Organizamos todos los descriptores en una sola matriz.\n",
    "test_stack = np.vstack(des_test)\n",
    "print('Tamaño total de descriptores: {}'.format(test_stack.shape))"
   ]
  },
  {
   "cell_type": "code",
   "execution_count": 172,
   "metadata": {},
   "outputs": [
    {
     "name": "stdout",
     "output_type": "stream",
     "text": [
      "Número de grupos: 15 | Tamaño del vocabulario generado: 243\n"
     ]
    }
   ],
   "source": [
    "# Método k-means clustering\n",
    "k = 15 # Número de grupos (clusters)\n",
    "kmeans_test = KMeans(n_clusters = k).fit_predict(test_stack)\n",
    "print('Número de grupos: {} | Tamaño del vocabulario generado: {}'.format(k, len(kmeans_test)))"
   ]
  },
  {
   "cell_type": "code",
   "execution_count": 177,
   "metadata": {},
   "outputs": [
    {
     "data": {
      "image/png": "[encoded data removed]",
      "text/plain": [
       "<matplotlib.figure.Figure at 0x242822eb4a8>"
      ]
     },
     "metadata": {},
     "output_type": "display_data"
    },
    {
     "name": "stdout",
     "output_type": "stream",
     "text": [
      "(20, 15)\n"
     ]
    }
   ],
   "source": [
    "# Generamos un histograma vacio en base al tamaño de grupos.\n",
    "histograma_test = np.array([np.zeros(k) for i in range(len_test)])\n",
    "# Contador para guardar el indice del grupo (cluster).\n",
    "test_count = 0\n",
    "\n",
    "# Iterando en nuestro conjunto de prueba.\n",
    "for i in range(len_test):\n",
    "    # Para cada imagen, obtengase el descriptor asociado.\n",
    "    p = len(des_test[i])\n",
    "    # Para cada descriptor de dicha imagen, obtengase su grupo asociado.\n",
    "    for j in range(p):\n",
    "        idx = kmeans_test[test_count+j]\n",
    "        histograma_test[i][idx] += 1\n",
    "    test_count += p\n",
    "x_test = np.arange(k)\n",
    "y_test = np.array([abs(np.sum(histograma_test[:,h])) for h in range(k)])\n",
    "\n",
    "# Realizamos el gráfico del histograma\n",
    "plt.bar(x_test, y_test)\n",
    "plt.xlabel(\"Indice del grupo\")\n",
    "plt.ylabel(\"Frecuencia\")\n",
    "plt.title(\"Vocabulario generado \\n Tamaño del histograma: {}\".format(histograma_test.size))\n",
    "plt.xticks(x_test, x_test)\n",
    "plt.show()\n",
    "\n",
    "test_data = histograma_test\n",
    "print(train_data.shape)"
   ]
  },
  {
   "cell_type": "code",
   "execution_count": 219,
   "metadata": {},
   "outputs": [
    {
     "name": "stdout",
     "output_type": "stream",
     "text": [
      "Categorías=\n",
      "1 para cat\n",
      "2 para frog\n",
      "3 para truck\n",
      "4 para ship\n",
      "resultado: [1.] para imagen1.png\n",
      "resultado: [1.] para imagen10.png\n",
      "resultado: [1.] para imagen100.png\n",
      "resultado: [1.] para imagen1000.png\n",
      "resultado: [1.] para imagen10000.png\n",
      "resultado: [1.] para imagen100000.png\n",
      "resultado: [1.] para imagen100001.png\n",
      "resultado: [1.] para imagen100002.png\n",
      "resultado: [1.] para imagen100003.png\n",
      "resultado: [3.] para imagen100004.png\n",
      "resultado: [1.] para imagen100005.png\n",
      "resultado: [1.] para imagen100006.png\n",
      "resultado: [1.] para imagen100007.png\n",
      "resultado: [1.] para imagen100008.png\n",
      "resultado: [1.] para imagen100009.png\n",
      "resultado: [1.] para imagen10001.png\n",
      "resultado: [1.] para imagen100010.png\n",
      "resultado: [1.] para imagen100011.png\n",
      "resultado: [1.] para imagen100012.png\n",
      "resultado: [1.] para imagen100013.png\n",
      "vecinos:  [[2. 1. 3. 1. 2. 4. 3. 1. 3. 1. 2. 3. 1. 1. 3.]\n",
      " [1. 3. 2. 2. 1. 3. 1. 1. 1. 4. 2. 3. 2. 1. 3.]\n",
      " [2. 2. 3. 4. 3. 1. 1. 1. 2. 1. 1. 1. 2. 3. 1.]\n",
      " [1. 2. 4. 1. 1. 2. 2. 3. 2. 3. 1. 2. 3. 1. 1.]\n",
      " [1. 3. 3. 2. 2. 1. 2. 3. 3. 4. 1. 2. 1. 1. 3.]\n",
      " [1. 1. 1. 3. 4. 2. 2. 3. 1. 2. 3. 1. 3. 2. 1.]\n",
      " [2. 4. 1. 3. 1. 1. 1. 2. 1. 3. 3. 3. 3. 1. 3.]\n",
      " [3. 1. 4. 2. 3. 2. 1. 3. 1. 3. 3. 1. 2. 2. 1.]\n",
      " [3. 1. 2. 3. 4. 1. 2. 2. 1. 1. 3. 3. 3. 1. 1.]\n",
      " [4. 3. 3. 2. 1. 1. 1. 2. 2. 3. 3. 1. 3. 3. 2.]\n",
      " [2. 3. 1. 1. 3. 1. 2. 2. 1. 3. 2. 1. 3. 1. 4.]\n",
      " [2. 2. 4. 1. 1. 3. 3. 1. 3. 1. 2. 1. 2. 3. 3.]\n",
      " [3. 2. 1. 1. 2. 1. 4. 3. 1. 1. 3. 2. 2. 3. 3.]\n",
      " [4. 3. 2. 1. 2. 3. 1. 3. 1. 1. 2. 3. 1. 1. 2.]\n",
      " [1. 2. 1. 4. 2. 2. 1. 2. 3. 3. 3. 1. 2. 1. 1.]\n",
      " [1. 1. 3. 2. 1. 3. 4. 1. 1. 2. 2. 2. 3. 3. 1.]\n",
      " [1. 3. 3. 4. 1. 2. 2. 3. 1. 1. 1. 2. 1. 3. 3.]\n",
      " [3. 1. 4. 1. 1. 2. 2. 3. 2. 1. 2. 1. 3. 2. 1.]\n",
      " [3. 2. 1. 4. 2. 1. 2. 3. 2. 3. 1. 1. 1. 1. 1.]\n",
      " [3. 4. 2. 3. 1. 2. 1. 1. 3. 3. 3. 2. 1. 1. 1.]] \n",
      "\n"
     ]
    }
   ],
   "source": [
    "#Tf-Idf \n",
    "nbr_occurences = np.sum( (histograma > 0) * 1, axis = 0)\n",
    "# Calcular número de ocurrencias\n",
    "idf = np.array(np.log((1.0*len(test_set)+1) / (1.0*nbr_occurences + 1)), 'float32')\n",
    "# Dando más peso a las más frecuentes\n",
    "test_data = test_data.astype(np.float32)\n",
    "\n",
    "ret, results, neighbours, dist = knn.findNearest(test_data, k)\n",
    "\n",
    "print('Categorías=')\n",
    "# ['cat', 'frog', 'truck', 'ship']\n",
    "print('1 para cat'); print('2 para frog'); print('3 para truck'); print('4 para ship')\n",
    "\n",
    "for i in range (len_test):\n",
    "    print ((\"resultado: {} para imagen{}\").format(results[i],test_set[i]))\n",
    "\n",
    "print (\"vecinos: \", neighbours,\"\\n\")\n",
    "\n"
   ]
  }
 ],
 "metadata": {
  "kernelspec": {
   "display_name": "Python 3",
   "language": "python",
   "name": "python3"
  },
  "language_info": {
   "codemirror_mode": {
    "name": "ipython",
    "version": 3
   },
   "file_extension": ".py",
   "mimetype": "text/x-python",
   "name": "python",
   "nbconvert_exporter": "python",
   "pygments_lexer": "ipython3",
   "version": "3.6.3"
  }
 },
 "nbformat": 4,
 "nbformat_minor": 2
}
