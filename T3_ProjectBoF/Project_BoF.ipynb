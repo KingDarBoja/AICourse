{
 "cells": [
  {
   "cell_type": "markdown",
   "metadata": {},
   "source": [
    "# Proyecto N°1: Clasificación con método _Bag of Features_"
   ]
  },
  {
   "cell_type": "markdown",
   "metadata": {},
   "source": [
    "This project will be evaluated in class groups. The evaluation metrics are based on your presentation and code provided in your attachments. Your solutions to the following problem should include commented source code written in Python. You can use additional modules if necessary. Analyze your results. If you discover something interesting, let us know!\n",
    "\n",
    "The past decade has seen the growing popularity of Bag of Features (BoF) approaches to many computer vision tasks, including image classification, video search, robot localization, and texture recognition. Part of the appeal is simplicity. BoF methods are based on orderless collections of quantized local image descriptors; they discard spatial information and are therefore conceptually and computationally simpler than many alternative methods [here](https://arxiv.org/pdf/1101.3354.pdf).\n",
    "\n",
    "For this project, you have to implement the Bag of Features representation for a classification problem. To accomplish this, execute the following tasks in the given order:\n",
    "\n",
    "1. Download CIFAR-10 dataset [here](https://www.kaggle.com/c/cifar-10/data). You have to select at least 4 classes to classify.\n",
    "2. For each image, compute Bag of features descriptors.\n",
    "3. Select a classifier using the BoF as input data, Options are Neural Network and KNN\n",
    "4. Evaluate the classifier using the testing set.\n",
    "5. Compute performance metrics creating a confusion matrix.\n",
    "\n",
    "For **task #3**, you have to read and implement the approach presented [here](https://arxiv.org/pdf/1101.3354.pdf), and you can look for additional information on internet. For **task #6** you should measure model performance with unseen data for this classification problem."
   ]
  },
  {
   "cell_type": "markdown",
   "metadata": {},
   "source": [
    "### 1. Importación de módulos y librerias."
   ]
  },
  {
   "cell_type": "code",
   "execution_count": 188,
   "metadata": {},
   "outputs": [],
   "source": [
    "import cv2\n",
    "import numpy as np\n",
    "import pandas as pd\n",
    "import os\n",
    "import matplotlib.pyplot as plt\n",
    "from sklearn.cluster import KMeans\n",
    "from sklearn.svm import SVC"
   ]
  },
  {
   "cell_type": "markdown",
   "metadata": {},
   "source": [
    "### 2. Selección de imagenes de entrenamiento (4 categorías)."
   ]
  },
  {
   "cell_type": "markdown",
   "metadata": {},
   "source": [
    "#### 2.A Lectura del archivo de etiquetas .csv (_Comma separated values_)"
   ]
  },
  {
   "cell_type": "code",
   "execution_count": 132,
   "metadata": {},
   "outputs": [
    {
     "name": "stdout",
     "output_type": "stream",
     "text": [
      "   id       label\n",
      "0   1        frog\n",
      "1   2       truck\n",
      "2   3       truck\n",
      "3   4        deer\n",
      "4   5  automobile\n"
     ]
    }
   ],
   "source": [
    "# Abrimos el archivo e imprimimos la cabecera para verificar.\n",
    "filename = 'trainLabels.csv'\n",
    "labels = pd.read_csv(filename)\n",
    "print(labels.head())"
   ]
  },
  {
   "cell_type": "markdown",
   "metadata": {},
   "source": [
    "#### 2.B Lectura de carpeta con imagenes"
   ]
  },
  {
   "cell_type": "code",
   "execution_count": 133,
   "metadata": {},
   "outputs": [
    {
     "name": "stdout",
     "output_type": "stream",
     "text": [
      "Lista de imagenes de entrenamiento - Clase \"list\" | Tamaño: 50000\n",
      "['1.png', '10.png', '100.png', '1000.png', '10000.png']\n"
     ]
    }
   ],
   "source": [
    "# Ruta de la carpeta con los archivos\n",
    "path = 'train'\n",
    "train_set = os.listdir(path)\n",
    "print('Lista de imagenes de entrenamiento - Clase \"{}\" | Tamaño: {}'.format(type(train_set).__name__, len(train_set)))\n",
    "print(train_set[0:5])"
   ]
  },
  {
   "cell_type": "markdown",
   "metadata": {},
   "source": [
    "#### 2.C Selección de imagenes en base a etiquetas elegidas."
   ]
  },
  {
   "cell_type": "code",
   "execution_count": 134,
   "metadata": {
    "scrolled": true
   },
   "outputs": [
    {
     "name": "stdout",
     "output_type": "stream",
     "text": [
      "Tamaño del set de entrenamiento en base a categorías: 20000\n"
     ]
    }
   ],
   "source": [
    "# Lista de categorias seleccionadas\n",
    "categorias = ['cat', 'frog', 'truck', 'ship']\n",
    "\n",
    "# Filtro en base a las categorias.\n",
    "train_list = labels.loc[labels['label'].isin(categorias)]['id'].tolist()\n",
    "print('Tamaño del set de entrenamiento en base a categorías: {}'.format(len(train_list)))"
   ]
  },
  {
   "cell_type": "markdown",
   "metadata": {},
   "source": [
    "### 3. _Bag of Features_ (Descriptor)"
   ]
  },
  {
   "cell_type": "code",
   "execution_count": 214,
   "metadata": {},
   "outputs": [
    {
     "name": "stdout",
     "output_type": "stream",
     "text": [
      "[  0.   1.   2.   3.   4.   5.   6.   7.   8.   9.  10.  11.  12.  13.  14.\n",
      "  15.  16.  17.  18.  19.]\n",
      "Tamaño aproximado de descriptores por imagen: 14.8\n"
     ]
    }
   ],
   "source": [
    "# Creamos nuestra lista de vectores con los descriptores.\n",
    "des_list = []\n",
    "train_labels = np.array([])\n",
    "\n",
    "# Si desea probar sobre un tamaño pequeño de la lista de entrenamiento, edite la variable len_train\n",
    "len_train = 20\n",
    "label_count = 0\n",
    "for img_item in train_list[0:len_train] :\n",
    "    # Creamos nuestro elemento SIFT por cada imagen\n",
    "    img_path = os.path.join(path, str(img_item)+'.png')\n",
    "    img  = cv2.imread(img_path)\n",
    "    gray = cv2.cvtColor(img, cv2.COLOR_BGR2GRAY)\n",
    "    # Calculo de los descriptores y los puntos clave (Keypoints)\n",
    "    train_labels = np.append(train_labels, label_count)\n",
    "    sift = cv2.xfeatures2d.SIFT_create()\n",
    "    kp, des = sift.detectAndCompute(gray,None)\n",
    "    # Guardamos dicho array en la lista\n",
    "    des_list.append(des)\n",
    "    label_count += 1\n",
    "\n",
    "print(train_labels)\n",
    "# Matriz n x 128 por cada descriptor\n",
    "des_shape = [v.shape[0] for v in des_list]\n",
    "print('Tamaño aproximado de descriptores por imagen: {}'.format(np.mean(des_shape)))"
   ]
  },
  {
   "cell_type": "code",
   "execution_count": 208,
   "metadata": {},
   "outputs": [
    {
     "name": "stdout",
     "output_type": "stream",
     "text": [
      "Tamaño total de descriptores: (296, 128)\n"
     ]
    }
   ],
   "source": [
    "# Organizamos todos los descriptores en una sola matriz.\n",
    "des_stack = np.vstack(des_list)\n",
    "print('Tamaño total de descriptores: {}'.format(des_stack.shape))"
   ]
  },
  {
   "cell_type": "markdown",
   "metadata": {},
   "source": [
    "### 4. Clasificador por método _K-means clustering_"
   ]
  },
  {
   "cell_type": "markdown",
   "metadata": {},
   "source": [
    "#### 4.A K-means"
   ]
  },
  {
   "cell_type": "code",
   "execution_count": 209,
   "metadata": {},
   "outputs": [
    {
     "name": "stdout",
     "output_type": "stream",
     "text": [
      "Número de grupos: 15 | Tamaño del vocabulario generado: 296\n"
     ]
    }
   ],
   "source": [
    "# Método k-means clustering\n",
    "k = 15  # Número de grupos (clusters)\n",
    "kmeans_ret = KMeans(n_clusters = k).fit_predict(des_stack)\n",
    "print('Número de grupos: {} | Tamaño del vocabulario generado: {}'.format(k, len(kmeans_ret)))"
   ]
  },
  {
   "cell_type": "markdown",
   "metadata": {},
   "source": [
    "#### 4.B Histograma"
   ]
  },
  {
   "cell_type": "code",
   "execution_count": 215,
   "metadata": {},
   "outputs": [
    {
     "data": {
      "image/png": "[encoded data removed]",
      "text/plain": [
       "<matplotlib.figure.Figure at 0x20061cf0e48>"
      ]
     },
     "metadata": {},
     "output_type": "display_data"
    }
   ],
   "source": [
    "# Generamos un histograma vacio en base al tamaño de grupos.\n",
    "histograma = np.array([np.zeros(k) for i in range(len_train)])\n",
    "# Contador para guardar el indice del grupo (cluster).\n",
    "old_count = 0\n",
    "\n",
    "# Iterando en nuestro conjunto de prueba.\n",
    "for i in range(len_train):\n",
    "    # Para cada imagen, obtengase el descriptor asociado.\n",
    "    p = len(des_list[i])\n",
    "    # Para cada descriptor de dicha imagen, obtengase su grupo asociado.\n",
    "    for j in range(p):\n",
    "        idx = kmeans_ret[old_count+j]\n",
    "        histograma[i][idx] += 1\n",
    "    old_count += p\n",
    "x_scalar = np.arange(k)\n",
    "y_scalar = np.array([abs(np.sum(histograma[:,h])) for h in range(k)])\n",
    "\n",
    "# Realizamos el gráfico del histograma\n",
    "plt.bar(x_scalar, y_scalar)\n",
    "plt.xlabel(\"Indice del grupo\")\n",
    "plt.ylabel(\"Frecuencia\")\n",
    "plt.title(\"Vocabulario generado \\n Tamaño del histograma: {}\".format(histograma.size))\n",
    "plt.xticks(x_scalar + 0.5, x_scalar)\n",
    "plt.show()"
   ]
  },
  {
   "cell_type": "markdown",
   "metadata": {},
   "source": [
    "### 5. Entrenamiento"
   ]
  },
  {
   "cell_type": "code",
   "execution_count": 220,
   "metadata": {},
   "outputs": [
    {
     "name": "stdout",
     "output_type": "stream",
     "text": [
      "Entrenamiento del clasificador\n"
     ]
    },
    {
     "data": {
      "text/plain": [
       "SVC(C=1.0, cache_size=200, class_weight=None, coef0=0.0,\n",
       "  decision_function_shape='ovr', degree=3, gamma='auto', kernel='rbf',\n",
       "  max_iter=-1, probability=False, random_state=None, shrinking=True,\n",
       "  tol=0.001, verbose=False)"
      ]
     },
     "execution_count": 220,
     "metadata": {},
     "output_type": "execute_result"
    }
   ],
   "source": [
    "print(\"Entrenamiento del clasificador\")\n",
    "# Objeto clasificador\n",
    "clf = SVC() \n",
    "# Entrenamiento del modelo\n",
    "clf.fit(histograma, train_labels)\n",
    "# returns a list of prediction for each test_data\n",
    "# [classes] = clf.predict(test_data)"
   ]
  }
 ],
 "metadata": {
  "kernelspec": {
   "display_name": "Python 3",
   "language": "python",
   "name": "python3"
  },
  "language_info": {
   "codemirror_mode": {
    "name": "ipython",
    "version": 3
   },
   "file_extension": ".py",
   "mimetype": "text/x-python",
   "name": "python",
   "nbconvert_exporter": "python",
   "pygments_lexer": "ipython3",
   "version": "3.6.3"
  }
 },
 "nbformat": 4,
 "nbformat_minor": 2
}
