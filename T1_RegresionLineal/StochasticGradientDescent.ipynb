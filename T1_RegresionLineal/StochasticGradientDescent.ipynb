{
 "cells": [
  {
   "cell_type": "markdown",
   "metadata": {},
   "source": [
    "# Regresión Lineal - Gradiente descendiente estocástico en Python"
   ]
  },
  {
   "cell_type": "markdown",
   "metadata": {},
   "source": [
    "### 1. Importamos las librerias / módulos"
   ]
  },
  {
   "cell_type": "code",
   "execution_count": 1,
   "metadata": {
    "collapsed": true
   },
   "outputs": [],
   "source": [
    "import numpy as np\n",
    "import matplotlib.pyplot as plt"
   ]
  },
  {
   "cell_type": "markdown",
   "metadata": {},
   "source": [
    "### 2. Creamos el conjunto de datos"
   ]
  },
  {
   "cell_type": "code",
   "execution_count": 45,
   "metadata": {},
   "outputs": [
    {
     "data": {
      "image/png": "[encoded data removed]",
      "text/plain": [
       "<matplotlib.figure.Figure at 0x1fd17889550>"
      ]
     },
     "metadata": {},
     "output_type": "display_data"
    }
   ],
   "source": [
    "# data_x denomina a nuestros datos de entrada, data_y los de salida\n",
    "data_x = np.linspace(1, 10, 100)[:, np.newaxis]\n",
    "data_y = np.sin(data_x) + 0.1 * np.power(data_x, 2) + 0.5 * np.random.randn(100, 1)\n",
    "\n",
    "# Concatenamos nuestros conjunto de datos en un solo array\n",
    "data_xy = np.concatenate((data_x, data_y), axis=1)\n",
    "np.random.shuffle(data_xy)\n",
    "\n",
    "# Agregamos nuestras etiquetas a los ejes y demás miscelaneos.\n",
    "plt.scatter(data_x, data_y)\n",
    "\n",
    "plt.xlabel('X'); plt.ylabel('Y'); plt.title('Conjunto de datos'); plt.grid('on')\n",
    "plt.show()"
   ]
  },
  {
   "cell_type": "markdown",
   "metadata": {},
   "source": [
    "### 3. Ejecución del algoritmo de gradiente descendiente estocástico"
   ]
  },
  {
   "cell_type": "markdown",
   "metadata": {},
   "source": [
    "#### 3.1 Función de cálculo de gradiente de pérdida"
   ]
  },
  {
   "cell_type": "code",
   "execution_count": 46,
   "metadata": {
    "collapsed": true
   },
   "outputs": [],
   "source": [
    "'''\n",
    "====================\n",
    "Gradiente de Perdida\n",
    "====================\n",
    "Función que realiza el cálculo del gradiente de pérdida para un conjunto de datos x, y con una matrix de peso w.\n",
    "'''\n",
    "def compute_loss(x, y, w):\n",
    "    y_estim = np.dot(x, w)\n",
    "    grad_loss = 2 * np.dot(x.T, y_estim - y)\n",
    "    return grad_loss"
   ]
  },
  {
   "cell_type": "markdown",
   "metadata": {},
   "source": [
    "#### 3.2 Tamaño de paso, épocas y subconjunto _(batch)_"
   ]
  },
  {
   "cell_type": "code",
   "execution_count": 47,
   "metadata": {
    "collapsed": true
   },
   "outputs": [],
   "source": [
    "step_size = 1e-6\n",
    "n_epoch = 1000 # Defina el número de épocas.\n",
    "\n",
    "# Tamaño de los bloques o Batch\n",
    "batchSize = 10\n",
    "batchNum = int(len(data_xy) / batchSize)"
   ]
  },
  {
   "cell_type": "markdown",
   "metadata": {},
   "source": [
    "#### 3.3 Metodo SGD"
   ]
  },
  {
   "cell_type": "code",
   "execution_count": 48,
   "metadata": {},
   "outputs": [
    {
     "name": "stdout",
     "output_type": "stream",
     "text": [
      "- Inicializando la matrix de pesos de manera aleatoria -\n",
      "Tamaño de la matrix de pesos: (1, 1)\n",
      "\n",
      "Metodo SGD\n",
      "Epoch: 0 - Loss: 7.3092\n",
      "Epoch: 100 - Loss: 3.4078\n",
      "Epoch: 200 - Loss: 2.5961\n",
      "Epoch: 300 - Loss: 2.4463\n",
      "Epoch: 400 - Loss: 2.4285\n",
      "Epoch: 500 - Loss: 2.4321\n",
      "Epoch: 600 - Loss: 2.4365\n",
      "Epoch: 700 - Loss: 2.4393\n",
      "Epoch: 800 - Loss: 2.4407\n",
      "Epoch: 900 - Loss: 2.4414\n",
      "Peso obtenido por SGD: [[ 0.79967199]]\n",
      "\n"
     ]
    }
   ],
   "source": [
    "# Matrix de pesos.\n",
    "print(\"- Inicializando la matrix de pesos de manera aleatoria -\")\n",
    "weights = np.random.random((1,1))\n",
    "weights_2 = np.copy(weights)\n",
    "\n",
    "print(\"Tamaño de la matrix de pesos: {}\".format(weights.shape))\n",
    "print(\"\")\n",
    "print(\"Metodo SGD\")\n",
    "\n",
    "# Ciclo para realizar las iteracciones\n",
    "for epoch in range(n_epoch) :\n",
    "    # Función de perdida (loss function)\n",
    "    loss = np.power(np.dot(data_nx, weights) - data_ny, 2).mean()\n",
    "    for batch in np.split(data_xy, batchNum) :\n",
    "        grad_loss = compute_loss(batch[:,0][:, np.newaxis], batch[:,1][:, np.newaxis], weights)\n",
    "        # Update weights using gradient.\n",
    "        weights -= step_size * grad_loss\n",
    "\n",
    "    if epoch % 100 == 0:\n",
    "        print('Epoch: %d - Loss: %.4f' % (epoch, loss))\n",
    "    \n",
    "print(\"Peso obtenido por SGD: {}\".format(weights))\n",
    "print(\"\")"
   ]
  },
  {
   "cell_type": "markdown",
   "metadata": {},
   "source": [
    "#### 3.4 Método gradiente descendente"
   ]
  },
  {
   "cell_type": "code",
   "execution_count": 49,
   "metadata": {},
   "outputs": [
    {
     "name": "stdout",
     "output_type": "stream",
     "text": [
      "Metodo GD\n",
      "Epoch: 0 - Loss: 7.7070\n",
      "Epoch: 100 - Loss: 3.5145\n",
      "Epoch: 200 - Loss: 2.5705\n",
      "Epoch: 300 - Loss: 2.3580\n",
      "Epoch: 400 - Loss: 2.3101\n",
      "Epoch: 500 - Loss: 2.2993\n",
      "Epoch: 600 - Loss: 2.2969\n",
      "Epoch: 700 - Loss: 2.2964\n",
      "Epoch: 800 - Loss: 2.2963\n",
      "Epoch: 900 - Loss: 2.2962\n",
      "Peso obtenido por gradient descent: [[ 0.79967766]]\n"
     ]
    }
   ],
   "source": [
    "print(\"Metodo GD\")\n",
    "\n",
    "for epoch in range(1000) :\n",
    "    estimate = data_x.dot(weights_2)\n",
    "    # Función de perdida estimada (estimate loss function)\n",
    "    loss = np.power((estimate - data_y), 2).mean()\n",
    "\n",
    "    # Calculamos el gradiente de perdida (Gradient loss)\n",
    "    grad_loss = compute_loss(data_x, data_y, weights_2)\n",
    "    weights_2 -= step_size * grad_loss\n",
    "    \n",
    "    if epoch % 100 == 0 :\n",
    "        print(\"Epoch: %d - Loss: %.4f\" % (epoch, loss))\n",
    "        \n",
    "print(\"Peso obtenido por gradient descent: {}\".format(weights_2))"
   ]
  },
  {
   "cell_type": "markdown",
   "metadata": {},
   "source": [
    "#### 3.5 Comparativa gráfica de ambos metodos"
   ]
  },
  {
   "cell_type": "code",
   "execution_count": 50,
   "metadata": {},
   "outputs": [
    {
     "data": {
      "image/png": "[encoded data removed]",
      "text/plain": [
       "<matplotlib.figure.Figure at 0x1fd178530b8>"
      ]
     },
     "metadata": {},
     "output_type": "display_data"
    }
   ],
   "source": [
    "plt.scatter(data_x, data_y)\n",
    "plt.plot(data_x, np.multiply(data_x, weights), label='SGD');\n",
    "plt.plot(data_x, np.multiply(data_x, weights_2), label='GD');\n",
    "plt.grid('On'); plt.title('Curve fitting'); plt.xlabel('X'); plt.ylabel('Y');\n",
    "plt.legend()\n",
    "plt.show()"
   ]
  }
 ],
 "metadata": {
  "kernelspec": {
   "display_name": "Python 3",
   "language": "python",
   "name": "python3"
  },
  "language_info": {
   "codemirror_mode": {
    "name": "ipython",
    "version": 3
   },
   "file_extension": ".py",
   "mimetype": "text/x-python",
   "name": "python",
   "nbconvert_exporter": "python",
   "pygments_lexer": "ipython3",
   "version": "3.6.3"
  }
 },
 "nbformat": 4,
 "nbformat_minor": 2
}
