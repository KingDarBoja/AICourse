{
 "cells": [
  {
   "cell_type": "markdown",
   "metadata": {},
   "source": [
    "# Regresión Lineal - gradiente descendiente estocástico en Python"
   ]
  },
  {
   "cell_type": "markdown",
   "metadata": {},
   "source": [
    "### 1. Importamos las librerias / módulos"
   ]
  },
  {
   "cell_type": "code",
   "execution_count": 1,
   "metadata": {
    "collapsed": true
   },
   "outputs": [],
   "source": [
    "import numpy as np\n",
    "import matplotlib.pyplot as plt"
   ]
  },
  {
   "cell_type": "markdown",
   "metadata": {},
   "source": [
    "### 2. Creamos el conjunto de datos"
   ]
  },
  {
   "cell_type": "code",
   "execution_count": 45,
   "metadata": {},
   "outputs": [
    {
     "data": {
      "image/png": "[encoded data removed]",
      "text/plain": [
       "<matplotlib.figure.Figure at 0x10a6d0d68>"
      ]
     },
     "metadata": {},
     "output_type": "display_data"
    }
   ],
   "source": [
    "# data_x denomina a nuestros datos de entrada, data_y los de salida\n",
    "data_x = np.linspace(1, 10, 100)[:, np.newaxis]\n",
    "data_y = np.sin(data_x) + 0.1 * np.power(data_x, 2) + 0.5 * np.random.randn(100, 1)\n",
    "\n",
    "# Concatenamos nuestros conjunto de datos en un solo array\n",
    "data_xy = np.concatenate((data_x, data_y), axis=1)\n",
    "np.random.shuffle(data_xy)\n",
    "\n",
    "data_nx = data_xy[:,0:1]\n",
    "data_ny = data_xy[:,1:2]\n",
    "\n",
    "# Agregamos nuestras etiquetas a los ejes y demás miscelaneos.\n",
    "plt.scatter(data_x, data_y)\n",
    "\n",
    "plt.xlabel('X'); plt.ylabel('Y'); plt.title('Conjunto de datos'); plt.grid('on')\n",
    "plt.show()"
   ]
  },
  {
   "cell_type": "markdown",
   "metadata": {},
   "source": [
    "### 3. Ejecución del algoritmo de gradiente descendiente estocástico"
   ]
  },
  {
   "cell_type": "code",
   "execution_count": 38,
   "metadata": {
    "collapsed": true
   },
   "outputs": [],
   "source": [
    "'''\n",
    "====================\n",
    "Gradiente de Perdida\n",
    "====================\n",
    "Función que realiza el cálculo del gradiente de pérdida estocastico para un conjunto de datos x, y con una matrix de peso w.\n",
    "'''\n",
    "def compute_sgd_loss(x, y, w):\n",
    "    y_estim = np.dot(x, w)\n",
    "    # SGD\n",
    "    sgd_loss = 2 * np.dot(x.T, y_estim - y)\n",
    "    return sgd_loss"
   ]
  },
  {
   "cell_type": "code",
   "execution_count": 48,
   "metadata": {},
   "outputs": [
    {
     "name": "stdout",
     "output_type": "stream",
     "text": [
      "- Inicializando la matrix de pesos de manera aleatoria -\n",
      "Tamaño de la matrix de pesos: (1, 1)\n",
      "\n",
      "Metodo SGD\n",
      "Epoch: 0 - Loss: 17.8106\n",
      "Epoch: 100 - Loss: 6.6963\n",
      "Epoch: 200 - Loss: 3.6352\n",
      "Epoch: 300 - Loss: 2.7857\n",
      "Epoch: 400 - Loss: 2.5466\n",
      "Epoch: 500 - Loss: 2.4776\n",
      "Epoch: 600 - Loss: 2.4569\n",
      "Epoch: 700 - Loss: 2.4502\n",
      "Epoch: 800 - Loss: 2.4479\n",
      "Epoch: 900 - Loss: 2.4469\n",
      "Peso obtenido por SGD: [[ 0.77220883]]\n",
      "\n",
      "Metodo gradient descent\n",
      "Epoch: 0 - Loss: 17.8106\n",
      "Epoch: 100 - Loss: 5.9049\n",
      "Epoch: 200 - Loss: 3.2243\n",
      "Epoch: 300 - Loss: 2.6208\n",
      "Epoch: 400 - Loss: 2.4849\n",
      "Epoch: 500 - Loss: 2.4543\n",
      "Epoch: 600 - Loss: 2.4474\n",
      "Epoch: 700 - Loss: 2.4459\n",
      "Epoch: 800 - Loss: 2.4455\n",
      "Epoch: 900 - Loss: 2.4454\n",
      "Peso obtenido por gradient descent: [[ 0.77737069]]\n"
     ]
    }
   ],
   "source": [
    "# from random import randint\n",
    "\n",
    "# Matrix de pesos y tamaño de paso\n",
    "print(\"- Inicializando la matrix de pesos de manera aleatoria -\")\n",
    "weights = np.random.random((1,1))\n",
    "weights_2 = np.copy(weights)\n",
    "step_size = 1e-6\n",
    "# Número de épocas.\n",
    "n_epoch = 1000\n",
    "print(\"Tamaño de la matrix de pesos: {}\".format(weights.shape))\n",
    "print(\"\")\n",
    "print(\"Metodo SGD\")\n",
    "\n",
    "# Tamaño de los bloques o Batch\n",
    "batchSize = 10\n",
    "batchNum = int(len(data_xy) / batchSize)\n",
    "\n",
    "# Ciclo para realizar las iteracciones\n",
    "for epoch in range(n_epoch) :\n",
    "    \n",
    "    # Función de perdida (loss function)\n",
    "    loss = np.power(np.dot(data_nx, weights) - data_ny, 2).mean()\n",
    "    for i in range(batchNum) :\n",
    "        grad_loss = compute_sgd_loss(data_nx[(i-1)*batchNum:i*batchNum], data_ny[(i-1)*batchNum:i*batchNum], weights)\n",
    "        # Update weights using gradient.\n",
    "        # weights = weights - step_size * grad_loss\n",
    "        weights -= step_size * grad_loss\n",
    "\n",
    "    if epoch % 100 == 0:\n",
    "        print('Epoch: %d - Loss: %.4f' % (epoch, loss))\n",
    "    \n",
    "print(\"Peso obtenido por SGD: {}\".format(weights))\n",
    "print(\"\")\n",
    "\n",
    "print(\"Metodo gradient descent\")\n",
    "\n",
    "for epoch in range(1000) :\n",
    "    estimate = data_x.dot(weights_2)\n",
    "    # Función de perdida estimada (estimate loss function)\n",
    "    loss = np.power((estimate - data_y), 2).mean()\n",
    "\n",
    "    # Calculamos el gradiente de perdida (Gradient loss)\n",
    "    grad_loss = 2 * data_x.T.dot(estimate - data_y)\n",
    "    weights_2 -= step_size * grad_loss\n",
    "    \n",
    "    if epoch % 100 == 0 :\n",
    "        print(\"Epoch: %d - Loss: %.4f\" % (epoch, loss))\n",
    "        \n",
    "print(\"Peso obtenido por gradient descent: {}\".format(weights_2))"
   ]
  },
  {
   "cell_type": "code",
   "execution_count": 49,
   "metadata": {},
   "outputs": [
    {
     "data": {
      "image/png": "[encoded data removed]",
      "text/plain": [
       "<matplotlib.figure.Figure at 0x10fe5a470>"
      ]
     },
     "metadata": {},
     "output_type": "display_data"
    }
   ],
   "source": [
    "plt.scatter(data_x, data_y)\n",
    "plt.plot(data_x, np.multiply(data_x, weights), label='SGD');\n",
    "plt.plot(data_x, np.multiply(data_x, weights_2), label='GD');\n",
    "plt.grid('On'); plt.title('Curve fitting'); plt.xlabel('X'); plt.ylabel('Y');\n",
    "plt.legend()\n",
    "plt.show()"
   ]
  },
  {
   "cell_type": "code",
   "execution_count": null,
   "metadata": {
    "collapsed": true
   },
   "outputs": [],
   "source": []
  }
 ],
 "metadata": {
  "kernelspec": {
   "display_name": "Python 3",
   "language": "python",
   "name": "python3"
  },
  "language_info": {
   "codemirror_mode": {
    "name": "ipython",
    "version": 3
   },
   "file_extension": ".py",
   "mimetype": "text/x-python",
   "name": "python",
   "nbconvert_exporter": "python",
   "pygments_lexer": "ipython3",
   "version": "3.6.3"
  }
 },
 "nbformat": 4,
 "nbformat_minor": 2
}
