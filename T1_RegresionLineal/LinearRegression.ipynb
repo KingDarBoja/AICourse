{
 "cells": [
  {
   "cell_type": "markdown",
   "metadata": {},
   "source": [
    "# Introducción a Python\n",
    "\n",
    "Esta es una breve introducción a Python. Es recomendable también afianzar dichos conocimientos a tráves de cursos gratuitos o pagos a tráves de plataformas como Udemy, Datacamp, etc."
   ]
  },
  {
   "cell_type": "markdown",
   "metadata": {},
   "source": [
    "### 1. Definición de variables"
   ]
  },
  {
   "cell_type": "code",
   "execution_count": 2,
   "metadata": {},
   "outputs": [
    {
     "name": "stdout",
     "output_type": "stream",
     "text": [
      "3\n"
     ]
    }
   ],
   "source": [
    "# Definición de variables\n",
    "a = 1\n",
    "b = 2\n",
    "\n",
    "print(a + b)"
   ]
  },
  {
   "cell_type": "markdown",
   "metadata": {},
   "source": [
    "### 2. Strings"
   ]
  },
  {
   "cell_type": "code",
   "execution_count": 3,
   "metadata": {},
   "outputs": [
    {
     "name": "stdout",
     "output_type": "stream",
     "text": [
      "Hola mundo, Esto es genial\n"
     ]
    }
   ],
   "source": [
    "hello = \"Hola mundo\"\n",
    "print(hello + \", \" + \"Esto es genial\")"
   ]
  },
  {
   "cell_type": "markdown",
   "metadata": {},
   "source": [
    "### 3. Contenedores"
   ]
  },
  {
   "cell_type": "markdown",
   "metadata": {},
   "source": [
    "- **Listas**"
   ]
  },
  {
   "cell_type": "code",
   "execution_count": 4,
   "metadata": {},
   "outputs": [
    {
     "name": "stdout",
     "output_type": "stream",
     "text": [
      "[2, 4]\n"
     ]
    }
   ],
   "source": [
    "a = [1, [2, 4], 3]\n",
    "print(a[1])"
   ]
  },
  {
   "cell_type": "markdown",
   "metadata": {},
   "source": [
    "- **Diccionarios**"
   ]
  },
  {
   "cell_type": "code",
   "execution_count": 6,
   "metadata": {},
   "outputs": [
    {
     "name": "stdout",
     "output_type": "stream",
     "text": [
      "{'Pais': 'Colombia', 'Edad': 5}\n"
     ]
    }
   ],
   "source": [
    "b = {\"Pais\": \"Colombia\", \"Edad\": 5}\n",
    "print(b)"
   ]
  },
  {
   "cell_type": "markdown",
   "metadata": {},
   "source": [
    "### 4. Funciones"
   ]
  },
  {
   "cell_type": "code",
   "execution_count": 5,
   "metadata": {},
   "outputs": [
    {
     "name": "stdout",
     "output_type": "stream",
     "text": [
      "3\n"
     ]
    }
   ],
   "source": [
    "def sum(a, b) :\n",
    "    return a + b\n",
    "print(sum(1,2))"
   ]
  },
  {
   "cell_type": "markdown",
   "metadata": {},
   "source": [
    "### 5. Ciclos"
   ]
  },
  {
   "cell_type": "code",
   "execution_count": 7,
   "metadata": {},
   "outputs": [
    {
     "name": "stdout",
     "output_type": "stream",
     "text": [
      "1\n",
      "[2, 4]\n",
      "3\n"
     ]
    }
   ],
   "source": [
    "a = [1, [2, 4], 3]\n",
    "for item in a :\n",
    "    print(item)"
   ]
  },
  {
   "cell_type": "markdown",
   "metadata": {},
   "source": [
    "# Linear Regression with Python\n",
    "\n",
    "Las listas _(list)_ lo utilizaremos para almacenar datos densos, mientras que para datos disperos, usaremos los diccionarios (_dict_). Para este tema, utilizaremos los paquetes **NumPy** y **matplotlib**.\n",
    "\n",
    "El vector *data_x* denotarán el conjunto de datos de entrada, para lo cual habra un conjunto de caracteristicas o **features** que representan dichos datos a tráves de valores en sus columnas (en representación de vector) o mapas (pares nombre-valor). El vector *data_y* denotarán las salidas o **label**."
   ]
  },
  {
   "cell_type": "code",
   "execution_count": 1,
   "metadata": {
    "collapsed": true
   },
   "outputs": [],
   "source": [
    "# Importamos las librerias necesarias para trabajar\n",
    "import numpy as np\n",
    "from matplotlib import pyplot as plt\n",
    "# Este comando permite que las gráficas queden dentro de la vista de nuestra \"notebook\".\n",
    "%matplotlib inline"
   ]
  },
  {
   "cell_type": "code",
   "execution_count": 2,
   "metadata": {},
   "outputs": [
    {
     "data": {
      "image/png": "[encoded data removed]",
      "text/plain": [
       "<matplotlib.figure.Figure at 0x1d4fcbf54a8>"
      ]
     },
     "metadata": {},
     "output_type": "display_data"
    }
   ],
   "source": [
    "# Creamos nuestro conjunto de datos.\n",
    "# El metodo newaxis se encarga de agregar una dimensión a nuestro conjunto de datos.\n",
    "# En este caso, convierte nuestro vector 1D en un vector 2D de multiples filas y una columna (Column Vector).\n",
    "data_x = np.linspace(1, 10, 100)[:, np.newaxis]\n",
    "data_y = np.sin(data_x) + 0.1 * np.power(data_x, 2) + 0.5 * np.random.randn(100, 1)\n",
    "\n",
    "plt.scatter(data_x, data_y);"
   ]
  },
  {
   "cell_type": "markdown",
   "metadata": {},
   "source": [
    "Creamos nuestra matriz de pesos (los cuales son aleatorios) llamado **weight**. y nuestros estimados / predicciones, los cuales llamamos **estimate**, serán el producto punto entre nuestros datos. El tamaño del paso o **step_size** determina que tan agresivo se moverá dicho gradiente."
   ]
  },
  {
   "cell_type": "code",
   "execution_count": 3,
   "metadata": {},
   "outputs": [
    {
     "name": "stdout",
     "output_type": "stream",
     "text": [
      "(1, 1)\n"
     ]
    }
   ],
   "source": [
    "weights = np.random.random((1, 1))\n",
    "# Definimos el tamaño del paso (step)\n",
    "step_size = 1E-6\n",
    "print(weights.shape)"
   ]
  },
  {
   "cell_type": "code",
   "execution_count": 4,
   "metadata": {},
   "outputs": [
    {
     "name": "stdout",
     "output_type": "stream",
     "text": [
      "Epoch: 0 - Loss: 9.2853\n",
      "Epoch: 100 - Loss: 4.0548\n",
      "Epoch: 200 - Loss: 2.8772\n",
      "Epoch: 300 - Loss: 2.6121\n",
      "Epoch: 400 - Loss: 2.5524\n",
      "Epoch: 500 - Loss: 2.5389\n",
      "Epoch: 600 - Loss: 2.5359\n",
      "Epoch: 700 - Loss: 2.5352\n",
      "Epoch: 800 - Loss: 2.5351\n",
      "Epoch: 900 - Loss: 2.5350\n",
      "[[ 0.77684245]]\n"
     ]
    }
   ],
   "source": [
    "# Calculamos las predicciones (compute predictions).\n",
    "for epoch in range(1000) :\n",
    "    estimate = data_x.dot(weights)\n",
    "    # Función de perdida estimada (estimate loss function)\n",
    "    loss = np.power((estimate - data_y), 2).mean()\n",
    "\n",
    "    # Calculamos el gradiente de perdida (Gradient loss)\n",
    "    grad_loss = 2 * data_x.T.dot(estimate - data_y)\n",
    "    weights = weights - step_size * grad_loss\n",
    "    \n",
    "    if epoch % 100 == 0 :\n",
    "        print(\"Epoch: %d - Loss: %.4f\" % (epoch, loss))\n",
    "        \n",
    "print(weights)"
   ]
  },
  {
   "cell_type": "markdown",
   "metadata": {},
   "source": [
    "### Agregando nueva dimensión \n",
    "Teniendo nuestros datos *data_x*, agregamos una nueva columna a dicha matriz, para lo cual realizamos el mismo proceso realizado anteriormente."
   ]
  },
  {
   "cell_type": "code",
   "execution_count": 5,
   "metadata": {},
   "outputs": [
    {
     "data": {
      "text/plain": [
       "(100, 2)"
      ]
     },
     "execution_count": 5,
     "metadata": {},
     "output_type": "execute_result"
    }
   ],
   "source": [
    "phi_x = np.hstack([np.ones_like(data_x), data_x])\n",
    "phi_x.shape"
   ]
  },
  {
   "cell_type": "code",
   "execution_count": 6,
   "metadata": {},
   "outputs": [
    {
     "name": "stdout",
     "output_type": "stream",
     "text": [
      "(2, 1)\n"
     ]
    }
   ],
   "source": [
    "weights = np.random.random((2, 1))\n",
    "# Definimos el tamaño del paso (step)\n",
    "step_size = 1E-6\n",
    "print(weights.shape)"
   ]
  },
  {
   "cell_type": "code",
   "execution_count": 7,
   "metadata": {},
   "outputs": [
    {
     "name": "stdout",
     "output_type": "stream",
     "text": [
      "Epoch: 0 - Loss: 15.4872\n",
      "Epoch: 100 - Loss: 5.1639\n",
      "Epoch: 200 - Loss: 3.3732\n",
      "Epoch: 300 - Loss: 3.0805\n",
      "Epoch: 400 - Loss: 3.0406\n",
      "Epoch: 500 - Loss: 3.0388\n",
      "Epoch: 600 - Loss: 3.0408\n",
      "Epoch: 700 - Loss: 3.0422\n",
      "Epoch: 800 - Loss: 3.0429\n",
      "Epoch: 900 - Loss: 3.0431\n"
     ]
    }
   ],
   "source": [
    "# Calculamos las predicciones (compute predictions).\n",
    "for epoch in range(1000) :\n",
    "    estimate = phi_x.dot(weights)\n",
    "    # Función de perdida estimada (estimate loss function)\n",
    "    loss = np.power((estimate - data_y), 2).mean()\n",
    "\n",
    "    # Calculamos el gradiente de perdida (Gradient loss)\n",
    "    grad_loss = 2 * data_x.T.dot(estimate - data_y)\n",
    "    weights = weights - step_size * grad_loss\n",
    "    \n",
    "    if epoch % 100 == 0 :\n",
    "        print(\"Epoch: %d - Loss: %.4f\" % (epoch, loss))"
   ]
  },
  {
   "cell_type": "markdown",
   "metadata": {},
   "source": [
    "De lo anterior, podemos concluir que al agregar una dimensión, puede que el error sea más pequeño (o más grande) con las mismas epocas."
   ]
  },
  {
   "cell_type": "markdown",
   "metadata": {},
   "source": [
    "### Tarea\n",
    "Ya tenemos nuestro modelo de regresion, pero utilizando \"Gradient estocastic sgd\", escogiendo la cantidad de datos / divisiones para hacerlo."
   ]
  }
 ],
 "metadata": {
  "kernelspec": {
   "display_name": "Python 3",
   "language": "python",
   "name": "python3"
  },
  "language_info": {
   "codemirror_mode": {
    "name": "ipython",
    "version": 3
   },
   "file_extension": ".py",
   "mimetype": "text/x-python",
   "name": "python",
   "nbconvert_exporter": "python",
   "pygments_lexer": "ipython3",
   "version": "3.6.3"
  }
 },
 "nbformat": 4,
 "nbformat_minor": 2
}
